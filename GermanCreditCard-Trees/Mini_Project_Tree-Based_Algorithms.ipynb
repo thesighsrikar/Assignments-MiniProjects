{
 "cells": [
  {
   "cell_type": "markdown",
   "metadata": {},
   "source": [
    "# Mini Project: Tree-Based Algorithms"
   ]
  },
  {
   "cell_type": "markdown",
   "metadata": {},
   "source": [
    "## The \"German Credit\" Dataset"
   ]
  },
  {
   "cell_type": "markdown",
   "metadata": {},
   "source": [
    "### Dataset Details"
   ]
  },
  {
   "cell_type": "markdown",
   "metadata": {},
   "source": [
    "This dataset has two classes (these would be considered labels in Machine Learning terms) to describe the worthiness of a personal loan: \"Good\" or \"Bad\". There are predictors related to attributes, such as: checking account status, duration, credit history, purpose of the loan, amount of the loan, savings accounts or bonds, employment duration, installment rate in percentage of disposable income, personal information, other debtors/guarantors, residence duration, property, age, other installment plans, housing, number of existing credits, job information, number of people being liable to provide maintenance for, telephone, and foreign worker status.\n",
    "\n",
    "Many of these predictors are discrete and have been expanded into several 0/1 indicator variables (a.k.a. they have been one-hot-encoded).\n",
    "\n",
    "This dataset has been kindly provided by Professor Dr. Hans Hofmann of the University of Hamburg, and can also be found on the UCI Machine Learning Repository."
   ]
  },
  {
   "cell_type": "markdown",
   "metadata": {},
   "source": [
    "\n",
    "\n",
    "\n"
   ]
  },
  {
   "cell_type": "markdown",
   "metadata": {},
   "source": [
    "## Decision Trees"
   ]
  },
  {
   "cell_type": "markdown",
   "metadata": {},
   "source": [
    " As we have learned in the previous lectures, Decision Trees as a family of algorithms (irrespective to the particular implementation) are powerful algorithms that can produce models with a predictive accuracy higher than that produced by linear models, such as Linear or Logistic Regression. Primarily, this is due to the fact the DT's can model nonlinear relationships, and also have a number of tuning paramters, that allow for the practicioner to achieve the best possible model. An added bonus is the ability to visualize the trained Decision Tree model, which allows for some insight into how the model has produced the predictions that it has. One caveat here, to keep in mind, is that sometimes, due to the size of the dataset (both in the sense of the number of records, as well as the number of features), the visualization might prove to be very large and complex, increasing the difficulty of interpretation."
   ]
  },
  {
   "cell_type": "markdown",
   "metadata": {},
   "source": [
    "To give you a very good example of how Decision Trees can be visualized and interpreted, we would strongly recommend that, before continuing on with solving the problems in this Mini Project, you take the time to read this fanstastic, detailed and informative blog post: http://explained.ai/decision-tree-viz/index.html"
   ]
  },
  {
   "cell_type": "markdown",
   "metadata": {},
   "source": [
    "## Building Your First Decision Tree Model"
   ]
  },
  {
   "cell_type": "markdown",
   "metadata": {},
   "source": [
    "So, now it's time to jump straight into the heart of the matter. Your first task, is to build a Decision Tree model, using the aforementioned \"German Credit\" dataset, which contains 1,000 records, and 62 columns (one of them presents the labels, and the other 61 present the potential features for the model.)"
   ]
  },
  {
   "cell_type": "markdown",
   "metadata": {},
   "source": [
    "For this task, you will be using the scikit-learn library, which comes already pre-installed with the Anaconda Python distribution. In case you're not using that, you can easily install it using pip."
   ]
  },
  {
   "cell_type": "markdown",
   "metadata": {},
   "source": [
    "Before embarking on creating your first model, we would strongly encourage you to read the short tutorial for Decision Trees in scikit-learn (http://scikit-learn.org/stable/modules/tree.html), and then dive a bit deeper into the documentation of the algorithm itself (http://scikit-learn.org/stable/modules/generated/sklearn.tree.DecisionTreeClassifier.html). "
   ]
  },
  {
   "cell_type": "markdown",
   "metadata": {},
   "source": [
    "Also, since you want to be able to present the results of your model, we suggest you take a look at the tutorial for accuracy metrics for classification models (http://scikit-learn.org/stable/modules/model_evaluation.html#classification-report) as well as the more detailed documentation (http://scikit-learn.org/stable/modules/generated/sklearn.metrics.classification_report.html).\n",
    "\n",
    "Finally, an *amazing* resource that explains the various classification model accuracy metrics, as well as the relationships between them, can be found on Wikipedia: https://en.wikipedia.org/wiki/Confusion_matrix"
   ]
  },
  {
   "cell_type": "markdown",
   "metadata": {},
   "source": [
    "(Note: as you've already learned in the Logistic Regression mini project, a standard practice in Machine Learning for achieving the best possible result when training a model is to use hyperparameter tuning, through Grid Search and k-fold Cross Validation. We strongly encourage you to use it here as well, not just because it's standard practice, but also becuase it's not going to be computationally to intensive, due to the size of the dataset that you're working with. Our suggestion here is that you split the data into 70% training, and 30% testing. Then, do the hyperparameter tuning and Cross Validation on the training set, and afterwards to a final test on the testing set.)"
   ]
  },
  {
   "cell_type": "markdown",
   "metadata": {},
   "source": [
    "### Now we pass the torch onto you! You can start building your first Decision Tree model! :)"
   ]
  },
  {
   "cell_type": "code",
   "execution_count": 6,
   "metadata": {},
   "outputs": [],
   "source": [
    "import pandas as pd\n",
    "import numpy as np\n",
    "from sklearn.tree import DecisionTreeClassifier\n",
    "from sklearn.metrics import classification_report\n",
    "from sklearn.model_selection import train_test_split\n",
    "from sklearn.model_selection import GridSearchCV\n",
    "from sklearn.preprocessing import OrdinalEncoder\n",
    "from sklearn.metrics import classification_report\n",
    "import seaborn as sns"
   ]
  },
  {
   "cell_type": "markdown",
   "metadata": {},
   "source": [
    "Inference: The data is fully imbalanced and needs to be handled accordingly"
   ]
  },
  {
   "cell_type": "code",
   "execution_count": 9,
   "metadata": {},
   "outputs": [],
   "source": [
    "from sklearn.preprocessing import LabelEncoder\n",
    "\n",
    "filename = 'GermanCredit.csv'\n",
    "\n",
    "def load_dataset(filename, size=0.3):\n",
    "    df = pd.read_csv(filename)\n",
    "    print('-'*50)\n",
    "    print('Countplot for Target variable of training data')\n",
    "    sns.countplot(data=df, x=\"Class\")\n",
    "    print('-'*50)\n",
    "    y = df['Class']\n",
    "    y = y.values.reshape((len(y), 1))\n",
    "    X = df.drop(labels=\"Class\", axis=1)\n",
    "    X_train, X_test, y_train, y_test = train_test_split(X, y, test_size=0.3, random_state=1)\n",
    "    return X_train, X_test, y_train, y_test"
   ]
  },
  {
   "cell_type": "code",
   "execution_count": 13,
   "metadata": {},
   "outputs": [
    {
     "name": "stdout",
     "output_type": "stream",
     "text": [
      "--------------------------------------------------\n",
      "Countplot for Target variable of training data\n",
      "--------------------------------------------------\n",
      "Train:  (700, 61) (700, 1)\n",
      "Test:  (300, 61) (300, 1)\n"
     ]
    },
    {
     "data": {
      "image/png": "[encoded data removed]",
      "text/plain": [
       "<Figure size 432x288 with 1 Axes>"
      ]
     },
     "metadata": {
      "needs_background": "light"
     },
     "output_type": "display_data"
    }
   ],
   "source": [
    "X_train, X_test, y_train, y_test = load_dataset(filename)\n",
    "# There are 62 features for this dataset, cleaned and pre-processed\n",
    "print('Train: ', X_train.shape, y_train.shape)\n",
    "print('Test: ', X_test.shape, y_test.shape)"
   ]
  },
  {
   "cell_type": "code",
   "execution_count": 14,
   "metadata": {},
   "outputs": [],
   "source": [
    "# Prepare target variable\n",
    "\n",
    "def prepare_target(y_train, y_test):\n",
    "    label_encoder = LabelEncoder()\n",
    "    label_encoder.fit(y_train)\n",
    "    y_train = label_encoder.fit_transform(y_train)\n",
    "    y_test = label_encoder.fit_transform(y_test)\n",
    "    return y_train, y_test"
   ]
  },
  {
   "cell_type": "code",
   "execution_count": 16,
   "metadata": {},
   "outputs": [],
   "source": [
    "y_train, y_test = prepare_target(y_train, y_test)"
   ]
  },
  {
   "cell_type": "code",
   "execution_count": 42,
   "metadata": {},
   "outputs": [],
   "source": [
    "dt_classifier = DecisionTreeClassifier(random_state=0)\n",
    "\n",
    "from sklearn.model_selection import cross_val_score\n",
    "\n",
    "def cv_score(estimator, X_train, y_train, folds):\n",
    "    all_accuracies = cross_val_score(estimator=estimator, X=X_train, y=y_train, cv=folds)\n",
    "    print('-'*50)\n",
    "    for i in range(len(all_accuracies)):\n",
    "        print(\"Accuracy for \", i+1, \"CV-Fold is: \", all_accuracies[i])\n",
    "    \n",
    "    estimator.fit(X_train, y_train)\n",
    "    print('-'*50)\n",
    "    print(\"Mean of the accuracies of all the folds: \", (all_accuracies.mean())*100)\n",
    "    print('-'*50)\n",
    "    print(\"Standard Deviation of the accuracies of all the folds: \", (all_accuracies.std())*100)\n",
    "    print('-'*50)\n",
    "    y_predict = estimator.predict(X_test)\n",
    "    print(classification_report(y_test, y_predict, target_names=['Bad(0)', 'Good(1)']))\n",
    "    print('-'*50)"
   ]
  },
  {
   "cell_type": "code",
   "execution_count": 43,
   "metadata": {},
   "outputs": [
    {
     "name": "stdout",
     "output_type": "stream",
     "text": [
      "--------------------------------------------------\n",
      "Accuracy for  1 CV-Fold is:  0.5785714285714286\n",
      "Accuracy for  2 CV-Fold is:  0.6928571428571428\n",
      "Accuracy for  3 CV-Fold is:  0.5857142857142857\n",
      "Accuracy for  4 CV-Fold is:  0.6357142857142857\n",
      "Accuracy for  5 CV-Fold is:  0.6928571428571428\n",
      "--------------------------------------------------\n",
      "Mean of the accuracies of all the folds:  63.71428571428572\n",
      "--------------------------------------------------\n",
      "Standard Deviation of the accuracies of all the folds:  4.956957592256418\n",
      "--------------------------------------------------\n",
      "              precision    recall  f1-score   support\n",
      "\n",
      "      Bad(0)       0.47      0.43      0.45        86\n",
      "     Good(1)       0.78      0.81      0.79       214\n",
      "\n",
      "    accuracy                           0.70       300\n",
      "   macro avg       0.63      0.62      0.62       300\n",
      "weighted avg       0.69      0.70      0.70       300\n",
      "\n",
      "--------------------------------------------------\n"
     ]
    }
   ],
   "source": [
    "cv_score(dt_classifier, X_train, y_train, 5)"
   ]
  },
  {
   "cell_type": "markdown",
   "metadata": {},
   "source": [
    "Insight: Accuracy is 63.71% which is very poor and since the standard deviation is very large, the model has very HIGH variance."
   ]
  },
  {
   "cell_type": "code",
   "execution_count": 44,
   "metadata": {},
   "outputs": [],
   "source": [
    "# For hyper-parameter tuning.\n",
    "def grid_search_cv(estimator, grid_param):\n",
    "    gd_sr = GridSearchCV(estimator=estimator,\n",
    "                     param_grid=grid_param,\n",
    "                     scoring='accuracy',\n",
    "                     cv=5,\n",
    "                     n_jobs=-1,\n",
    "                     verbose=1)\n",
    "    \n",
    "    gd_sr.fit(X_train, y_train)\n",
    "    \n",
    "    print('-'*50)\n",
    "    print(\"Best Classifier: \", gd_sr.best_estimator_)\n",
    "    print('-'*50)\n",
    "    print(\"Best Parameters: \", gd_sr.best_params_)\n",
    "    print('-'*50)\n",
    "    y_predict = gd_sr.best_estimator_.predict(X_test)\n",
    "    print(classification_report(y_test, y_predict, target_names=['Bad(0)', 'Good(1)']))\n",
    "    print('-'*50)\n",
    "    return gd_sr.best_estimator_"
   ]
  },
  {
   "cell_type": "code",
   "execution_count": 45,
   "metadata": {},
   "outputs": [],
   "source": [
    "# grid_param = {\n",
    "#     'splitter': ['best', 'random'],\n",
    "#     'criterion': ['gini', 'entropy'],\n",
    "#     'max_depth': [2,3,4,5,6,7,8,9,10,11,12],\n",
    "#     'min_samples_split': [2,3,4,5,6],\n",
    "#     'max_features': ['auto', 'sqrt', 'log2', None],\n",
    "#     'random_state': [43]\n",
    "# }\n",
    "\n",
    "# dt_grid_search = grid_search_cv(dt_classifier, grid_param)"
   ]
  },
  {
   "cell_type": "raw",
   "metadata": {},
   "source": [
    "Best Classifier:  DecisionTreeClassifier(ccp_alpha=0.0, class_weight=None, criterion='gini',\n",
    "                       max_depth=2, max_features='auto', max_leaf_nodes=None,\n",
    "                       min_impurity_decrease=0.0, min_impurity_split=None,\n",
    "                       min_samples_leaf=1, min_samples_split=2,\n",
    "                       min_weight_fraction_leaf=0.0, presort='deprecated',\n",
    "                       random_state=43, splitter='best')\n",
    "--------------------------------------------------\n",
    "Best Parameters:  {'criterion': 'gini', 'max_depth': 2, 'max_features': 'auto', 'min_samples_split': 2, 'random_state': 43, 'splitter': 'best'}\n",
    "--------------------------------------------------\n",
    "              precision    recall  f1-score   support\n",
    "\n",
    "      Bad(0)       0.48      0.29      0.36        86\n",
    "     Good(1)       0.75      0.87      0.81       214\n",
    "\n",
    "    accuracy                           0.71       300\n",
    "   macro avg       0.62      0.58      0.59       300\n",
    "weighted avg       0.68      0.71      0.68       300\n",
    "\n",
    "--------------------------------------------------"
   ]
  },
  {
   "cell_type": "code",
   "execution_count": 46,
   "metadata": {},
   "outputs": [],
   "source": [
    "# This is the classifier after we have run the Grid Search for hyper-parameter tuning. \n",
    "dt_tuned = DecisionTreeClassifier(ccp_alpha=0.0, class_weight=None, criterion='gini',\n",
    "                       max_depth=2, max_features='auto', max_leaf_nodes=None,\n",
    "                       min_impurity_decrease=0.0, min_impurity_split=None,\n",
    "                       min_samples_leaf=1, min_samples_split=2,\n",
    "                       min_weight_fraction_leaf=0.0, presort='deprecated',\n",
    "                       random_state=43, splitter='best')\n"
   ]
  },
  {
   "cell_type": "code",
   "execution_count": 49,
   "metadata": {},
   "outputs": [
    {
     "name": "stdout",
     "output_type": "stream",
     "text": [
      "--------------------------------------------------\n",
      "Accuracy for  1 CV-Fold is:  0.6785714285714286\n",
      "Accuracy for  2 CV-Fold is:  0.7357142857142858\n",
      "Accuracy for  3 CV-Fold is:  0.7071428571428572\n",
      "Accuracy for  4 CV-Fold is:  0.7714285714285715\n",
      "Accuracy for  5 CV-Fold is:  0.7357142857142858\n",
      "--------------------------------------------------\n",
      "Mean of the accuracies of all the folds:  72.57142857142857\n",
      "--------------------------------------------------\n",
      "Standard Deviation of the accuracies of all the folds:  3.1167748898959187\n",
      "--------------------------------------------------\n",
      "              precision    recall  f1-score   support\n",
      "\n",
      "      Bad(0)       0.48      0.29      0.36        86\n",
      "     Good(1)       0.75      0.87      0.81       214\n",
      "\n",
      "    accuracy                           0.71       300\n",
      "   macro avg       0.62      0.58      0.59       300\n",
      "weighted avg       0.68      0.71      0.68       300\n",
      "\n",
      "--------------------------------------------------\n"
     ]
    }
   ],
   "source": [
    "cv_score(dt_tuned, X_train, y_train, 5)"
   ]
  },
  {
   "cell_type": "code",
   "execution_count": 50,
   "metadata": {},
   "outputs": [],
   "source": [
    "# dt_tuned.fit(X_train, y_train)"
   ]
  },
  {
   "cell_type": "markdown",
   "metadata": {},
   "source": [
    "**INSIGHT:** If we compare it with the initial fit, before actually fine tuning the Decision Tree Classifier, the accuracy has been greatly improved. "
   ]
  },
  {
   "cell_type": "markdown",
   "metadata": {},
   "source": [
    "As we can see that the 'Support' is 86 for Bad(0) class and 214 for Good(1) class, it is highly imbalanced dataset. PRECISION and RECALL can be used with highly imbalanced datasets. \n",
    "\n",
    "Precision – What percent of your predictions were correct?\n",
    "\n",
    "Recall – What percent of the positive cases did you catch? \n",
    "\n",
    "F1 score – What percent of positive predictions were correct? "
   ]
  },
  {
   "cell_type": "markdown",
   "metadata": {},
   "source": [
    "### After you've built the best model you can, now it's time to visualize it!"
   ]
  },
  {
   "cell_type": "markdown",
   "metadata": {},
   "source": [
    "Rememeber that amazing blog post from a few paragraphs ago, that demonstrated how to visualize and interpret the results of your Decision Tree model. We've seen that this can perform very well, but let's see how it does on the \"German Credit\" dataset that we're working on, due to it being a bit larger than the one used by the blog authors."
   ]
  },
  {
   "cell_type": "markdown",
   "metadata": {},
   "source": [
    "First, we're going to need to install their package. If you're using Anaconda, this can be done easily by running:"
   ]
  },
  {
   "cell_type": "markdown",
   "metadata": {},
   "source": [
    "If for any reason this way of installing doesn't work for you straight out of the box, please refer to the more detailed documentation here: https://github.com/parrt/dtreeviz"
   ]
  },
  {
   "cell_type": "markdown",
   "metadata": {},
   "source": [
    "Now you're ready to visualize your Decision Tree model! Please feel free to use the blog post for guidance and inspiration!"
   ]
  },
  {
   "cell_type": "code",
   "execution_count": 51,
   "metadata": {
    "collapsed": true,
    "jupyter": {
     "outputs_hidden": true
    }
   },
   "outputs": [
    {
     "data": {
      "image/png": "[encoded data removed]",
      "text/plain": [
       "<Figure size 1440x1440 with 1 Axes>"
      ]
     },
     "metadata": {
      "needs_background": "light"
     },
     "output_type": "display_data"
    }
   ],
   "source": [
    "from sklearn import tree\n",
    "import matplotlib.pyplot as plt\n",
    "\n",
    "fig = plt.figure(figsize=(20,20))\n",
    "_ = tree.plot_tree(dt_tuned, \n",
    "                   feature_names=X_train.columns,  \n",
    "#                    class_names=y_train, # How to add class names here?\n",
    "                   filled=True)\n"
   ]
  },
  {
   "cell_type": "code",
   "execution_count": 24,
   "metadata": {},
   "outputs": [],
   "source": [
    "# from sklearn import tree\n",
    "# import graphviz\n",
    "\n",
    "# tree_graph = tree.export_graphviz(dt_tuned, out_file=None, feature_names=X_train.columns)\n",
    "# graphviz.Source(tree_graph)"
   ]
  },
  {
   "cell_type": "markdown",
   "metadata": {},
   "source": [
    "## Random Forests"
   ]
  },
  {
   "cell_type": "markdown",
   "metadata": {},
   "source": [
    "As discussed in the lecture videos, Decision Tree algorithms also have certain undesireable properties. Mainly the have low bias, which is good, but tend to have high variance - which is *not* so good (more about this problem here: https://en.wikipedia.org/wiki/Bias%E2%80%93variance_tradeoff)."
   ]
  },
  {
   "cell_type": "markdown",
   "metadata": {},
   "source": [
    "Noticing these problems, the late Professor Leo Breiman, in 2001, developed the Random Forests algorithm, which mitigates these problems, while at the same time providing even higher predictive accuracy than the majority of Decision Tree algorithm implementations. While the curriculum contains two excellent lectures on Random Forests, if you're interested, you can dive into the original paper here: https://link.springer.com/content/pdf/10.1023%2FA%3A1010933404324.pdf."
   ]
  },
  {
   "cell_type": "markdown",
   "metadata": {},
   "source": [
    "In the next part of this assignment, your are going to use the same \"German Credit\" dataset to train, tune, and measure the performance of a Random Forests model. You will also see certain functionalities that this model, even though it's a bit of a \"black box\", provides for some degree of interpretability."
   ]
  },
  {
   "cell_type": "markdown",
   "metadata": {},
   "source": [
    "First, let's build a Random Forests model, using the same best practices that you've used for your Decision Trees model. You can reuse the things you've already imported there, so no need to do any re-imports, new train/test splits, or loading up the data again."
   ]
  },
  {
   "cell_type": "code",
   "execution_count": 52,
   "metadata": {},
   "outputs": [],
   "source": [
    "from sklearn.ensemble import RandomForestClassifier"
   ]
  },
  {
   "cell_type": "code",
   "execution_count": 53,
   "metadata": {},
   "outputs": [
    {
     "name": "stdout",
     "output_type": "stream",
     "text": [
      "--------------------------------------------------\n",
      "Accuracy for  1 CV-Fold is:  0.75\n",
      "Accuracy for  2 CV-Fold is:  0.75\n",
      "Accuracy for  3 CV-Fold is:  0.75\n",
      "Accuracy for  4 CV-Fold is:  0.7642857142857142\n",
      "Accuracy for  5 CV-Fold is:  0.7571428571428571\n",
      "--------------------------------------------------\n",
      "Mean of the accuracies of all the folds:  75.42857142857142\n",
      "--------------------------------------------------\n",
      "Standard Deviation of the accuracies of all the folds:  0.5714285714285694\n",
      "--------------------------------------------------\n",
      "              precision    recall  f1-score   support\n",
      "\n",
      "      Bad(0)       0.62      0.29      0.40        86\n",
      "     Good(1)       0.77      0.93      0.84       214\n",
      "\n",
      "    accuracy                           0.75       300\n",
      "   macro avg       0.70      0.61      0.62       300\n",
      "weighted avg       0.73      0.75      0.71       300\n",
      "\n",
      "--------------------------------------------------\n"
     ]
    }
   ],
   "source": [
    "rf_classifier = RandomForestClassifier(random_state=0)\n",
    "\n",
    "# k-fold cross-validation scores\n",
    "cv_score(rf_classifier, X_train, y_train, 5)"
   ]
  },
  {
   "cell_type": "markdown",
   "metadata": {},
   "source": [
    "**INSIGHT**: We can see that, the accuracy and variance have been greatly improved by using RandomForestClassifier."
   ]
  },
  {
   "cell_type": "code",
   "execution_count": null,
   "metadata": {},
   "outputs": [],
   "source": [
    "# grid_param_rf = {\n",
    "#     'n_estimators': np.array(range(100,500,100)),\n",
    "#     'criterion': ['gini', 'entropy'],\n",
    "#     'max_depth': [2,3,4,5,6,7,8],\n",
    "#     'min_samples_split': [2,3,4,5],\n",
    "#     'max_features': ['auto', 'sqrt', 'log2', None],\n",
    "# #     'random_state': np.array(range(50)),\n",
    "#     'bootstrap': [True, False],\n",
    "#     'oob_score': [True, False],\n",
    "#     'min_samples_leaf': [1, 2, 4]\n",
    "# }\n",
    "\n",
    "# rf_grid_searchr = grid_search_cv(rf_classifier, grid_param_rf)"
   ]
  },
  {
   "cell_type": "raw",
   "metadata": {},
   "source": [
    "--------------------------------------------------\n",
    "Best Classifier:  RandomForestClassifier(bootstrap=True, ccp_alpha=0.0, class_weight=None,\n",
    "                       criterion='gini', max_depth=8, max_features='auto',\n",
    "                       max_leaf_nodes=None, max_samples=None,\n",
    "                       min_impurity_decrease=0.0, min_impurity_split=None,\n",
    "                       min_samples_leaf=1, min_samples_split=4,\n",
    "                       min_weight_fraction_leaf=0.0, n_estimators=400,\n",
    "                       n_jobs=None, oob_score=True, random_state=0, verbose=0,\n",
    "                       warm_start=False)\n",
    "--------------------------------------------------\n",
    "Best Parameters:  {'bootstrap': True, 'criterion': 'gini', 'max_depth': 8, 'max_features': 'auto', 'min_samples_leaf': 1, 'min_samples_split': 4, 'n_estimators': 400, 'oob_score': True}\n",
    "--------------------------------------------------\n",
    "              precision    recall  f1-score   support\n",
    "\n",
    "      Bad(0)       0.56      0.22      0.32        86\n",
    "     Good(1)       0.75      0.93      0.83       214\n",
    "\n",
    "    accuracy                           0.73       300\n",
    "   macro avg       0.65      0.58      0.57       300\n",
    "weighted avg       0.69      0.73      0.68       300\n",
    "\n",
    "--------------------------------------------------"
   ]
  },
  {
   "cell_type": "code",
   "execution_count": 27,
   "metadata": {},
   "outputs": [
    {
     "data": {
      "text/plain": [
       "RandomForestClassifier(bootstrap=True, ccp_alpha=0.0, class_weight=None,\n",
       "                       criterion='gini', max_depth=8, max_features='auto',\n",
       "                       max_leaf_nodes=None, max_samples=None,\n",
       "                       min_impurity_decrease=0.0, min_impurity_split=None,\n",
       "                       min_samples_leaf=1, min_samples_split=4,\n",
       "                       min_weight_fraction_leaf=0.0, n_estimators=400,\n",
       "                       n_jobs=None, oob_score=True, random_state=0, verbose=0,\n",
       "                       warm_start=False)"
      ]
     },
     "execution_count": 27,
     "metadata": {},
     "output_type": "execute_result"
    }
   ],
   "source": [
    "rf_tuned = RandomForestClassifier(bootstrap=True, ccp_alpha=0.0, class_weight=None,\n",
    "                       criterion='gini', max_depth=8, max_features='auto',\n",
    "                       max_leaf_nodes=None, max_samples=None,\n",
    "                       min_impurity_decrease=0.0, min_impurity_split=None,\n",
    "                       min_samples_leaf=1, min_samples_split=4,\n",
    "                       min_weight_fraction_leaf=0.0, n_estimators=400,\n",
    "                       n_jobs=None, oob_score=True, random_state=0, verbose=0,\n",
    "                       warm_start=False)"
   ]
  },
  {
   "cell_type": "code",
   "execution_count": 54,
   "metadata": {},
   "outputs": [
    {
     "name": "stdout",
     "output_type": "stream",
     "text": [
      "--------------------------------------------------\n",
      "Accuracy for  1 CV-Fold is:  0.75\n",
      "Accuracy for  2 CV-Fold is:  0.7785714285714286\n",
      "Accuracy for  3 CV-Fold is:  0.7428571428571429\n",
      "Accuracy for  4 CV-Fold is:  0.7714285714285715\n",
      "Accuracy for  5 CV-Fold is:  0.7785714285714286\n",
      "--------------------------------------------------\n",
      "Mean of the accuracies of all the folds:  76.42857142857142\n",
      "--------------------------------------------------\n",
      "Standard Deviation of the accuracies of all the folds:  1.498298354528788\n",
      "--------------------------------------------------\n",
      "              precision    recall  f1-score   support\n",
      "\n",
      "      Bad(0)       0.56      0.22      0.32        86\n",
      "     Good(1)       0.75      0.93      0.83       214\n",
      "\n",
      "    accuracy                           0.73       300\n",
      "   macro avg       0.65      0.58      0.57       300\n",
      "weighted avg       0.69      0.73      0.68       300\n",
      "\n",
      "--------------------------------------------------\n"
     ]
    }
   ],
   "source": [
    "cv_score(rf_tuned, X_train, y_train, 5)"
   ]
  },
  {
   "cell_type": "code",
   "execution_count": 55,
   "metadata": {},
   "outputs": [],
   "source": [
    "# rf_tuned.fit(X_train, y_train)"
   ]
  },
  {
   "cell_type": "markdown",
   "metadata": {},
   "source": [
    "As mentioned, there are certain ways to \"peek\" into a model created by the Random Forests algorithm. The first, and most popular one, is the Feature Importance calculation functionality. This allows the ML practitioner to see an ordering of the importance of the features that have contributed the most to the predictive accuracy of the model. \n",
    "\n",
    "You can see how to use this in the scikit-learn documentation (http://scikit-learn.org/stable/modules/generated/sklearn.ensemble.RandomForestClassifier.html#sklearn.ensemble.RandomForestClassifier.feature_importances_). Now, if you tried this, you would just get an ordered table of not directly interpretable numeric values. Thus, it's much more useful to show the feature importance in a visual way. You can see an example of how that's done here: http://scikit-learn.org/stable/auto_examples/ensemble/plot_forest_importances.html#sphx-glr-auto-examples-ensemble-plot-forest-importances-py\n",
    "\n",
    "Now you try! Let's visualize the importance of features from your Random Forests model!"
   ]
  },
  {
   "cell_type": "code",
   "execution_count": 56,
   "metadata": {},
   "outputs": [],
   "source": [
    "from sklearn.datasets import make_classification\n",
    "from sklearn.ensemble import ExtraTreesClassifier\n",
    "\n",
    "\n",
    "def plot_feature_importance(estimator, nrow, ncol, X_train):\n",
    "    importances = estimator.feature_importances_\n",
    "    std = np.std([tree.feature_importances_ for tree in estimator.estimators_],\n",
    "                 axis=0)\n",
    "    indices = np.argsort(importances)[::-1]\n",
    "\n",
    "    print(\"Feature ranking:\")\n",
    "\n",
    "    for f in range(X_train.shape[1]):\n",
    "        print(\"%d. feature %d (%f)\" % (f + 1, indices[f], importances[indices[f]]))\n",
    "\n",
    "    # Plot the impurity-based feature importances of the forest\n",
    "    plt.figure(figsize=(nrow, ncol))\n",
    "    plt.title(\"Feature importances\")\n",
    "    plt.bar(range(X_train.shape[1]), importances[indices],\n",
    "            color=\"r\", yerr=std[indices], align=\"center\")\n",
    "    plt.xticks(range(X_train.shape[1]), indices)\n",
    "    plt.xlim([-1, X_train.shape[1]])\n",
    "    plt.show()"
   ]
  },
  {
   "cell_type": "raw",
   "metadata": {},
   "source": [
    "['Duration', 'Amount', 'InstallmentRatePercentage', 'ResidenceDuration',\n",
    "       'Age', 'NumberExistingCredits', 'NumberPeopleMaintenance', 'Telephone',\n",
    "       'ForeignWorker', 'CheckingAccountStatus.lt.0',\n",
    "       'CheckingAccountStatus.0.to.200', 'CheckingAccountStatus.gt.200',\n",
    "       'CheckingAccountStatus.none', 'CreditHistory.NoCredit.AllPaid',\n",
    "       'CreditHistory.ThisBank.AllPaid', 'CreditHistory.PaidDuly',\n",
    "       'CreditHistory.Delay', 'CreditHistory.Critical', 'Purpose.NewCar',\n",
    "       'Purpose.UsedCar', 'Purpose.Furniture.Equipment',\n",
    "       'Purpose.Radio.Television', 'Purpose.DomesticAppliance',\n",
    "       'Purpose.Repairs', 'Purpose.Education', 'Purpose.Vacation',\n",
    "       'Purpose.Retraining', 'Purpose.Business', 'Purpose.Other',\n",
    "       'SavingsAccountBonds.lt.100', 'SavingsAccountBonds.100.to.500',\n",
    "       'SavingsAccountBonds.500.to.1000', 'SavingsAccountBonds.gt.1000',\n",
    "       'SavingsAccountBonds.Unknown', 'EmploymentDuration.lt.1',\n",
    "       'EmploymentDuration.1.to.4', 'EmploymentDuration.4.to.7',\n",
    "       'EmploymentDuration.gt.7', 'EmploymentDuration.Unemployed',\n",
    "       'Personal.Male.Divorced.Seperated', 'Personal.Female.NotSingle',\n",
    "       'Personal.Male.Single', 'Personal.Male.Married.Widowed',\n",
    "       'Personal.Female.Single', 'OtherDebtorsGuarantors.None',\n",
    "       'OtherDebtorsGuarantors.CoApplicant',\n",
    "       'OtherDebtorsGuarantors.Guarantor', 'Property.RealEstate',\n",
    "       'Property.Insurance', 'Property.CarOther', 'Property.Unknown',\n",
    "       'OtherInstallmentPlans.Bank', 'OtherInstallmentPlans.Stores',\n",
    "       'OtherInstallmentPlans.None', 'Housing.Rent', 'Housing.Own',\n",
    "       'Housing.ForFree', 'Job.UnemployedUnskilled', 'Job.UnskilledResident',\n",
    "       'Job.SkilledEmployee', 'Job.Management.SelfEmp.HighlyQualified']\n",
    "       \n",
    "1. Amount\n",
    "2. Duration\n",
    "3. CheckingAccountStatus.none\n",
    "4. Age\n",
    "5. CheckingAccountStatus.lt.0\n",
    "6. CreditHistory.Critical"
   ]
  },
  {
   "cell_type": "code",
   "execution_count": 57,
   "metadata": {},
   "outputs": [
    {
     "name": "stdout",
     "output_type": "stream",
     "text": [
      "Feature ranking:\n",
      "1. feature 1 (0.103039)\n",
      "2. feature 0 (0.077800)\n",
      "3. feature 12 (0.076288)\n",
      "4. feature 4 (0.067093)\n",
      "5. feature 9 (0.058793)\n",
      "6. feature 17 (0.042846)\n",
      "7. feature 2 (0.032753)\n",
      "8. feature 29 (0.025232)\n",
      "9. feature 13 (0.023940)\n",
      "10. feature 3 (0.023211)\n",
      "11. feature 53 (0.018206)\n",
      "12. feature 10 (0.017794)\n",
      "13. feature 33 (0.016544)\n",
      "14. feature 18 (0.015656)\n",
      "15. feature 5 (0.015080)\n",
      "16. feature 51 (0.013898)\n",
      "17. feature 47 (0.013152)\n",
      "18. feature 55 (0.013111)\n",
      "19. feature 7 (0.012517)\n",
      "20. feature 27 (0.012227)\n",
      "21. feature 41 (0.012163)\n",
      "22. feature 14 (0.012089)\n",
      "23. feature 40 (0.012077)\n",
      "24. feature 34 (0.012038)\n",
      "25. feature 15 (0.011747)\n",
      "26. feature 19 (0.011636)\n",
      "27. feature 54 (0.011418)\n",
      "28. feature 21 (0.011391)\n",
      "29. feature 59 (0.011149)\n",
      "30. feature 50 (0.011014)\n",
      "31. feature 35 (0.010779)\n",
      "32. feature 49 (0.010504)\n",
      "33. feature 60 (0.010234)\n",
      "34. feature 36 (0.010041)\n",
      "35. feature 16 (0.009378)\n",
      "36. feature 45 (0.009348)\n",
      "37. feature 44 (0.009332)\n",
      "38. feature 37 (0.009188)\n",
      "39. feature 52 (0.009177)\n",
      "40. feature 20 (0.008837)\n",
      "41. feature 32 (0.008758)\n",
      "42. feature 48 (0.008752)\n",
      "43. feature 46 (0.008624)\n",
      "44. feature 58 (0.008164)\n",
      "45. feature 6 (0.007726)\n",
      "46. feature 38 (0.007644)\n",
      "47. feature 30 (0.007510)\n",
      "48. feature 56 (0.007220)\n",
      "49. feature 39 (0.006541)\n",
      "50. feature 11 (0.005836)\n",
      "51. feature 24 (0.005655)\n",
      "52. feature 42 (0.005545)\n",
      "53. feature 23 (0.005179)\n",
      "54. feature 31 (0.005059)\n",
      "55. feature 8 (0.002295)\n",
      "56. feature 22 (0.002200)\n",
      "57. feature 57 (0.001962)\n",
      "58. feature 28 (0.001676)\n",
      "59. feature 26 (0.000935)\n",
      "60. feature 43 (0.000000)\n",
      "61. feature 25 (0.000000)\n"
     ]
    },
    {
     "data": {
      "image/png": "[encoded data removed]",
      "text/plain": [
       "<Figure size 1440x1440 with 1 Axes>"
      ]
     },
     "metadata": {
      "needs_background": "light"
     },
     "output_type": "display_data"
    }
   ],
   "source": [
    "plot_feature_importance(rf_tuned, 20, 20, X_test)"
   ]
  },
  {
   "cell_type": "markdown",
   "metadata": {},
   "source": [
    "**Insights:** \n",
    "* The first 5(or 4) features are important for THIS estimator (rf_grid_searchr). It explains how important are those features to 'rf_grid_searchr' estimator. \n",
    "* "
   ]
  },
  {
   "cell_type": "markdown",
   "metadata": {},
   "source": [
    "* The permutation feature importance is defined to be the decrease in a model score when a single feature value is randomly shuffled. \n",
    "* This procedure breaks the relationship between the feature and the target, thus the drop in the model score is indicative of how much the model depends on the feature.\n",
    "* This technique benefits from being model agnostic and can be calculated many times with different permutations of the feature."
   ]
  },
  {
   "cell_type": "code",
   "execution_count": 58,
   "metadata": {
    "collapsed": true,
    "jupyter": {
     "outputs_hidden": true
    }
   },
   "outputs": [
    {
     "name": "stdout",
     "output_type": "stream",
     "text": [
      "{'importances_mean': array([ 0.00166667,  0.00033333,  0.00033333, -0.00166667, -0.012     ,\n",
      "        0.00433333,  0.        , -0.001     ,  0.003     , -0.00466667,\n",
      "       -0.00466667, -0.00033333,  0.006     , -0.01066667, -0.001     ,\n",
      "        0.00133333,  0.        , -0.001     , -0.00166667, -0.00066667,\n",
      "       -0.00066667, -0.002     ,  0.        , -0.00033333, -0.00433333,\n",
      "        0.        ,  0.        ,  0.00033333,  0.        ,  0.00333333,\n",
      "        0.00066667, -0.00133333, -0.00433333,  0.008     , -0.00433333,\n",
      "       -0.00066667,  0.00066667, -0.006     , -0.00033333,  0.        ,\n",
      "       -0.00433333, -0.001     , -0.00066667,  0.        , -0.00333333,\n",
      "       -0.00066667, -0.001     ,  0.001     , -0.00433333, -0.001     ,\n",
      "        0.00166667,  0.00033333, -0.00033333, -0.00033333, -0.011     ,\n",
      "       -0.006     ,  0.00333333,  0.        , -0.003     , -0.003     ,\n",
      "        0.00266667]), 'importances_std': array([0.01204159, 0.00546707, 0.00706321, 0.005     , 0.00884433,\n",
      "       0.00260342, 0.00210819, 0.00558768, 0.001     , 0.00635959,\n",
      "       0.00221108, 0.001     , 0.00891939, 0.00249444, 0.00152753,\n",
      "       0.00339935, 0.        , 0.00578312, 0.005     , 0.00249444,\n",
      "       0.002     , 0.00452155, 0.        , 0.001     , 0.00448454,\n",
      "       0.        , 0.        , 0.00233333, 0.        , 0.00394405,\n",
      "       0.00133333, 0.00221108, 0.00366667, 0.00266667, 0.00213437,\n",
      "       0.002     , 0.00249444, 0.00290593, 0.001     , 0.00149071,\n",
      "       0.003     , 0.00448454, 0.00133333, 0.        , 0.00333333,\n",
      "       0.00249444, 0.00334996, 0.00366667, 0.00213437, 0.00260342,\n",
      "       0.00401386, 0.001     , 0.001     , 0.001     , 0.00495536,\n",
      "       0.00416333, 0.00210819, 0.        , 0.00179505, 0.00276887,\n",
      "       0.00133333]), 'importances': array([[-0.01      ,  0.01      ,  0.00666667,  0.01      ,  0.        ,\n",
      "        -0.01666667,  0.        ,  0.02      ,  0.01333333, -0.01666667],\n",
      "       [ 0.00666667,  0.        , -0.01      ,  0.00666667,  0.00333333,\n",
      "         0.        ,  0.00666667,  0.        , -0.00333333, -0.00666667],\n",
      "       [ 0.00333333,  0.00666667,  0.00666667, -0.01333333,  0.        ,\n",
      "        -0.01      ,  0.00333333,  0.01      , -0.00333333,  0.        ],\n",
      "       [ 0.        ,  0.        ,  0.        , -0.01      ,  0.00333333,\n",
      "        -0.01      ,  0.        ,  0.00666667, -0.00333333, -0.00333333],\n",
      "       [-0.00333333, -0.00666667,  0.        , -0.01666667, -0.01666667,\n",
      "        -0.00666667, -0.02666667, -0.02666667, -0.01      , -0.00666667],\n",
      "       [ 0.00666667,  0.00333333,  0.00333333,  0.00333333,  0.        ,\n",
      "         0.01      ,  0.00333333,  0.00333333,  0.00333333,  0.00666667],\n",
      "       [-0.00333333,  0.        ,  0.        ,  0.        ,  0.00333333,\n",
      "         0.        , -0.00333333,  0.00333333,  0.        ,  0.        ],\n",
      "       [ 0.00333333, -0.00333333,  0.00333333,  0.        ,  0.        ,\n",
      "         0.00666667, -0.00333333, -0.00666667,  0.00333333, -0.01333333],\n",
      "       [ 0.00333333,  0.00333333,  0.00333333,  0.00333333,  0.00333333,\n",
      "         0.00333333,  0.        ,  0.00333333,  0.00333333,  0.00333333],\n",
      "       [-0.00666667,  0.        , -0.01333333,  0.00666667, -0.01      ,\n",
      "        -0.00666667, -0.01      ,  0.        ,  0.00333333, -0.01      ],\n",
      "       [-0.00666667, -0.00333333, -0.00666667, -0.00333333, -0.00666667,\n",
      "         0.        , -0.00666667, -0.00666667, -0.00333333, -0.00333333],\n",
      "       [ 0.        ,  0.        , -0.00333333,  0.        ,  0.        ,\n",
      "         0.        ,  0.        ,  0.        ,  0.        ,  0.        ],\n",
      "       [ 0.01666667, -0.00333333, -0.00333333,  0.01666667,  0.00333333,\n",
      "         0.        ,  0.00333333,  0.00333333,  0.02333333,  0.        ],\n",
      "       [-0.01333333, -0.00666667, -0.00666667, -0.01      , -0.01333333,\n",
      "        -0.01      , -0.01      , -0.01      , -0.01333333, -0.01333333],\n",
      "       [ 0.        ,  0.        , -0.00333333,  0.        ,  0.        ,\n",
      "        -0.00333333,  0.        ,  0.        ,  0.        , -0.00333333],\n",
      "       [ 0.00333333,  0.        ,  0.        ,  0.00333333,  0.        ,\n",
      "         0.00666667, -0.00666667,  0.00333333,  0.00333333,  0.        ],\n",
      "       [ 0.        ,  0.        ,  0.        ,  0.        ,  0.        ,\n",
      "         0.        ,  0.        ,  0.        ,  0.        ,  0.        ],\n",
      "       [-0.00333333,  0.        , -0.00666667,  0.00333333,  0.        ,\n",
      "         0.        , -0.01333333,  0.01      ,  0.        ,  0.        ],\n",
      "       [-0.00333333, -0.00333333, -0.00333333,  0.        , -0.01      ,\n",
      "         0.        , -0.00333333, -0.00666667,  0.00666667,  0.00666667],\n",
      "       [ 0.00333333,  0.        , -0.00333333, -0.00333333, -0.00333333,\n",
      "         0.00333333,  0.        ,  0.        ,  0.        , -0.00333333],\n",
      "       [ 0.        ,  0.        , -0.00333333, -0.00333333,  0.        ,\n",
      "        -0.00333333,  0.        ,  0.        ,  0.        ,  0.00333333],\n",
      "       [-0.00666667,  0.        , -0.00333333,  0.        ,  0.        ,\n",
      "         0.        ,  0.        , -0.01      , -0.00666667,  0.00666667],\n",
      "       [ 0.        ,  0.        ,  0.        ,  0.        ,  0.        ,\n",
      "         0.        ,  0.        ,  0.        ,  0.        ,  0.        ],\n",
      "       [ 0.        ,  0.        ,  0.        ,  0.        ,  0.        ,\n",
      "        -0.00333333,  0.        ,  0.        ,  0.        ,  0.        ],\n",
      "       [ 0.        , -0.01333333,  0.        , -0.01      , -0.00333333,\n",
      "        -0.00666667,  0.        , -0.00333333,  0.        , -0.00666667],\n",
      "       [ 0.        ,  0.        ,  0.        ,  0.        ,  0.        ,\n",
      "         0.        ,  0.        ,  0.        ,  0.        ,  0.        ],\n",
      "       [ 0.        ,  0.        ,  0.        ,  0.        ,  0.        ,\n",
      "         0.        ,  0.        ,  0.        ,  0.        ,  0.        ],\n",
      "       [ 0.        ,  0.        ,  0.00333333,  0.        ,  0.00333333,\n",
      "         0.        ,  0.        , -0.00333333,  0.00333333, -0.00333333],\n",
      "       [ 0.        ,  0.        ,  0.        ,  0.        ,  0.        ,\n",
      "         0.        ,  0.        ,  0.        ,  0.        ,  0.        ],\n",
      "       [ 0.00333333,  0.00333333,  0.        ,  0.        ,  0.        ,\n",
      "         0.00333333,  0.00333333,  0.        ,  0.01333333,  0.00666667],\n",
      "       [ 0.        ,  0.        ,  0.00333333,  0.        ,  0.        ,\n",
      "         0.00333333,  0.        ,  0.        ,  0.        ,  0.        ],\n",
      "       [ 0.00333333, -0.00333333,  0.        ,  0.        , -0.00333333,\n",
      "         0.        , -0.00333333,  0.        , -0.00333333, -0.00333333],\n",
      "       [-0.00333333,  0.        , -0.00333333, -0.00666667, -0.00666667,\n",
      "        -0.01333333,  0.        , -0.00333333, -0.00333333, -0.00333333],\n",
      "       [ 0.00666667,  0.01      ,  0.01      ,  0.00333333,  0.00666667,\n",
      "         0.01      ,  0.00666667,  0.00666667,  0.01333333,  0.00666667],\n",
      "       [-0.00333333, -0.00666667,  0.        , -0.00333333, -0.00333333,\n",
      "        -0.00333333, -0.00666667, -0.00666667, -0.00333333, -0.00666667],\n",
      "       [-0.00333333,  0.        ,  0.        , -0.00333333,  0.        ,\n",
      "        -0.00333333,  0.00333333,  0.        ,  0.        ,  0.        ],\n",
      "       [-0.00333333, -0.00333333,  0.00333333,  0.00333333,  0.00333333,\n",
      "         0.        ,  0.00333333,  0.        ,  0.        ,  0.        ],\n",
      "       [-0.00333333, -0.01      , -0.00333333,  0.        , -0.00666667,\n",
      "        -0.01      , -0.00666667, -0.00666667, -0.00666667, -0.00666667],\n",
      "       [ 0.        ,  0.        ,  0.        ,  0.        ,  0.        ,\n",
      "         0.        ,  0.        ,  0.        ,  0.        , -0.00333333],\n",
      "       [ 0.        ,  0.        ,  0.        ,  0.        ,  0.        ,\n",
      "        -0.00333333,  0.00333333,  0.        ,  0.        ,  0.        ],\n",
      "       [-0.00333333, -0.00333333, -0.00333333,  0.        , -0.01      ,\n",
      "        -0.00333333, -0.00666667, -0.00666667,  0.        , -0.00666667],\n",
      "       [ 0.00333333, -0.00333333,  0.        ,  0.00333333, -0.00666667,\n",
      "         0.        , -0.00666667, -0.00666667,  0.00666667,  0.        ],\n",
      "       [-0.00333333,  0.        ,  0.        ,  0.        ,  0.        ,\n",
      "        -0.00333333,  0.        ,  0.        ,  0.        ,  0.        ],\n",
      "       [ 0.        ,  0.        ,  0.        ,  0.        ,  0.        ,\n",
      "         0.        ,  0.        ,  0.        ,  0.        ,  0.        ],\n",
      "       [-0.00666667,  0.        ,  0.        ,  0.        , -0.00333333,\n",
      "         0.        , -0.00666667, -0.00333333, -0.00333333, -0.01      ],\n",
      "       [ 0.        ,  0.        ,  0.        ,  0.00333333, -0.00666667,\n",
      "         0.        ,  0.        ,  0.        , -0.00333333,  0.        ],\n",
      "       [-0.00666667,  0.00333333,  0.        ,  0.        ,  0.        ,\n",
      "         0.00333333, -0.00333333,  0.        ,  0.        , -0.00666667],\n",
      "       [ 0.        ,  0.        ,  0.00333333,  0.00333333, -0.00333333,\n",
      "         0.00666667,  0.        ,  0.00666667, -0.00333333, -0.00333333],\n",
      "       [-0.00666667, -0.00333333,  0.        , -0.00333333, -0.00666667,\n",
      "        -0.00333333, -0.00666667, -0.00333333, -0.00333333, -0.00666667],\n",
      "       [-0.00333333, -0.00333333,  0.        ,  0.        ,  0.        ,\n",
      "        -0.00333333, -0.00333333,  0.00333333, -0.00333333,  0.00333333],\n",
      "       [ 0.00333333,  0.00666667,  0.00333333,  0.00333333,  0.00333333,\n",
      "        -0.00666667,  0.        ,  0.        ,  0.00666667, -0.00333333],\n",
      "       [ 0.        ,  0.        ,  0.        ,  0.        ,  0.        ,\n",
      "         0.        ,  0.        ,  0.        ,  0.00333333,  0.        ],\n",
      "       [ 0.        ,  0.        ,  0.        ,  0.        ,  0.        ,\n",
      "         0.        ,  0.        , -0.00333333,  0.        ,  0.        ],\n",
      "       [ 0.        ,  0.        ,  0.        ,  0.        ,  0.        ,\n",
      "         0.        ,  0.        , -0.00333333,  0.        ,  0.        ],\n",
      "       [-0.00333333, -0.00333333, -0.01333333, -0.00666667, -0.01666667,\n",
      "        -0.01666667, -0.01666667, -0.01333333, -0.01      , -0.01      ],\n",
      "       [-0.00333333,  0.        , -0.00666667,  0.        , -0.00666667,\n",
      "        -0.01333333, -0.01      , -0.01      , -0.00333333, -0.00666667],\n",
      "       [ 0.00333333,  0.        ,  0.        ,  0.00333333,  0.00666667,\n",
      "         0.00333333,  0.00666667,  0.00333333,  0.00333333,  0.00333333],\n",
      "       [ 0.        ,  0.        ,  0.        ,  0.        ,  0.        ,\n",
      "         0.        ,  0.        ,  0.        ,  0.        ,  0.        ],\n",
      "       [-0.00333333, -0.00333333, -0.00333333,  0.        , -0.00333333,\n",
      "        -0.00666667, -0.00333333,  0.        , -0.00333333, -0.00333333],\n",
      "       [ 0.00333333, -0.00333333, -0.00333333, -0.00333333, -0.00666667,\n",
      "        -0.00333333,  0.        , -0.00333333, -0.00666667, -0.00333333],\n",
      "       [ 0.00333333,  0.        ,  0.00333333,  0.00333333,  0.00333333,\n",
      "         0.00333333,  0.00333333,  0.00333333,  0.00333333,  0.        ]])}\n"
     ]
    }
   ],
   "source": [
    "from sklearn.inspection import permutation_importance\n",
    "result = permutation_importance(rf_tuned, X_test, y_test, n_repeats=10, random_state=0, n_jobs=-1)\n",
    "print(result)"
   ]
  },
  {
   "cell_type": "markdown",
   "metadata": {},
   "source": [
    "A final method for gaining some insight into the inner working of your Random Forests models is a so-called Partial Dependence Plot. The Partial Dependence Plot (PDP or PD plot) shows the marginal effect of a feature on the predicted outcome of a previously fit model. The prediction function is fixed at a few values of the chosen features and averaged over the other features. A partial dependence plot can show if the relationship between the target and a feature is linear, monotonic or more complex. \n",
    "\n",
    "In scikit-learn, PDPs are implemented and available for certain algorithms, but at this point (version 0.20.0) they are not yet implemented for Random Forests. Thankfully, there is an add-on package called **PDPbox** (https://pdpbox.readthedocs.io/en/latest/) which adds this functionality to Random Forests. The package is easy to install through pip."
   ]
  },
  {
   "cell_type": "raw",
   "metadata": {
    "jupyter": {
     "outputs_hidden": true
    }
   },
   "source": [
    "# ! pip install pdpbox\n",
    "\n",
    "One assumption made for the PDP is that the features in XC are uncorrelated with the features in XS. If this assumption is violated, the averages, which are computed for the partial dependence plot, incorporate data points that are very unlikely or even impossible."
   ]
  },
  {
   "cell_type": "markdown",
   "metadata": {},
   "source": [
    "While we encourage you to read the documentation for the package (and reading package documentation in general is a good habit to develop), the authors of the package have also written an excellent blog post on how to use it, showing examples on different algorithms from scikit-learn (the Random Forests example is towards the end of the blog post): https://briangriner.github.io/Partial_Dependence_Plots_presentation-BrianGriner-PrincetonPublicLibrary-4.14.18-updated-4.22.18.html"
   ]
  },
  {
   "cell_type": "markdown",
   "metadata": {},
   "source": [
    "So, armed with this new knowledge, feel free to pick a few features, and make a couple of Partial Dependence Plots of your own!"
   ]
  },
  {
   "cell_type": "code",
   "execution_count": null,
   "metadata": {},
   "outputs": [],
   "source": [
    "!pip install joblib"
   ]
  },
  {
   "cell_type": "markdown",
   "metadata": {},
   "source": [
    "**INFERENCE:**\n",
    "* ???"
   ]
  },
  {
   "cell_type": "code",
   "execution_count": null,
   "metadata": {},
   "outputs": [],
   "source": [
    "from pdpbox import pdp, get_dataset, info_plots\n",
    "\n",
    "# Create the data that we will plot\n",
    "pdp_goals = pdp.pdp_isolate(model=rf_tuned, \n",
    "                            dataset=X_train, \n",
    "                            model_features=X_train.columns, \n",
    "                            feature='Duration')\n",
    "\n",
    "# plot it\n",
    "pdp.pdp_plot(pdp_goals, 'CheckingAccountStatus.none')\n",
    "plt.show()"
   ]
  },
  {
   "cell_type": "code",
   "execution_count": null,
   "metadata": {},
   "outputs": [],
   "source": [
    "# from pdpbox import pdp, get_dataset, info_plots\n",
    "\n",
    "# fig, axes, summary_df = info_plots.target_plot(\n",
    "#     df=X_train, feature=['CheckingAccountStatus.lt.0', 'CheckingAccountStatus.0.to.200', 'CheckingAccountStatus.gt.200', 'CheckingAccountStatus.none'], feature_name='Account Status',\n",
    "#     target=\n",
    "# )"
   ]
  },
  {
   "cell_type": "code",
   "execution_count": null,
   "metadata": {},
   "outputs": [],
   "source": [
    "import matplotlib.pyplot as plt\n",
    "from sklearn.inspection import partial_dependence\n",
    "from sklearn.inspection import plot_partial_dependence\n",
    "\n",
    "print('Computing partial dependence plots...')\n",
    "# tic = time()\n",
    "features = ['Duration', 'Amount', 'Age', 'NumberExistingCredits']\n",
    "display = plot_partial_dependence(\n",
    "       rf_tuned, X_train, features, kind='both', subsample=50,\n",
    "       n_jobs=3, grid_resolution=20, random_state=0\n",
    ")\n",
    "print(f\"done in {time() - tic:.3f}s\")\n",
    "display.figure_.suptitle(\n",
    "    'Partial dependence of house value on non-location features\\n'\n",
    "    'for the California housing dataset, with MLPRegressor'\n",
    ")\n",
    "display.figure_.subplots_adjust(hspace=0.3)"
   ]
  },
  {
   "cell_type": "code",
   "execution_count": null,
   "metadata": {},
   "outputs": [],
   "source": [
    "from sklearn.inspection import plot_partial_dependence\n",
    "\n",
    "fig, ax = plt.subplots()\n",
    "\n",
    "plot_partial_dependence(\n",
    "    rf_tuned,\n",
    "    X_train,\n",
    "    features=[0, 1],\n",
    "    feature_names=(\n",
    "        \"Bad\",\n",
    "        \"Good\",\n",
    "    ),\n",
    "    line_kw={\"linewidth\": 4, \"label\": \"constrained\", \"color\": \"tab:orange\"},\n",
    "    ax=ax,\n",
    "    n_jobs=-1,\n",
    ")\n",
    "\n",
    "for f_idx in (0, 1):\n",
    "    disp.axes_[0, f_idx].plot(\n",
    "        X[:, f_idx], y, \"o\", alpha=0.3, zorder=-1, color=\"tab:green\"\n",
    "    )\n",
    "    disp.axes_[0, f_idx].set_ylim(-6, 6)\n",
    "\n",
    "plt.legend()\n",
    "fig.suptitle(\"Monotonic constraints illustration\")\n",
    "\n",
    "plt.show()"
   ]
  },
  {
   "cell_type": "markdown",
   "metadata": {},
   "source": [
    "## (Optional) Advanced Boosting-Based Algorithms"
   ]
  },
  {
   "cell_type": "markdown",
   "metadata": {},
   "source": [
    "As explained in the video lectures, the next generation of algorithms after Random Forests (that use Bagging, a.k.a. Bootstrap Aggregation) were developed using Boosting, and the first one of these were Gradient Boosted Machines, which are implemented in scikit-learn (http://scikit-learn.org/stable/modules/ensemble.html#gradient-tree-boosting)."
   ]
  },
  {
   "cell_type": "markdown",
   "metadata": {},
   "source": [
    "Still, in recent years, a number of variations on GBMs have been developed by different research amd industry groups, all of them bringing improvements, both in speed, accuracy and functionality to the original Gradient Boosting algorithms.\n",
    "\n",
    "In no order of preference, these are:\n",
    "1. **XGBoost**: https://xgboost.readthedocs.io/en/latest/\n",
    "2. **CatBoost**: https://tech.yandex.com/catboost/\n",
    "3. **LightGBM**: https://lightgbm.readthedocs.io/en/latest/"
   ]
  },
  {
   "cell_type": "markdown",
   "metadata": {},
   "source": [
    "If you're using the Anaconda distribution, these are all very easy to install:"
   ]
  },
  {
   "cell_type": "code",
   "execution_count": 59,
   "metadata": {},
   "outputs": [
    {
     "name": "stdout",
     "output_type": "stream",
     "text": [
      "Collecting xgboost\n",
      "  Downloading xgboost-1.1.1-py3-none-manylinux2010_x86_64.whl (127.6 MB)\n",
      "\u001b[K     |████████████████████████████████| 127.6 MB 61.8 MB/s eta 0:00:01    |████████████████████████▏       | 96.3 MB 56.7 MB/s eta 0:00:01\n",
      "\u001b[?25hCollecting numpy\n",
      "  Downloading numpy-1.18.5-cp35-cp35m-manylinux1_x86_64.whl (19.9 MB)\n",
      "\u001b[K     |████████████████████████████████| 19.9 MB 37.5 MB/s eta 0:00:01    |█████████▉                      | 6.1 MB 37.5 MB/s eta 0:00:01\n",
      "\u001b[?25hCollecting scipy\n",
      "  Downloading scipy-1.4.1-cp35-cp35m-manylinux1_x86_64.whl (26.0 MB)\n",
      "\u001b[K     |████████████████████████████████| 26.0 MB 27.0 MB/s eta 0:00:01\n",
      "\u001b[?25hInstalling collected packages: numpy, scipy, xgboost\n",
      "Successfully installed numpy-1.18.5 scipy-1.4.1 xgboost-1.1.1\n",
      "\u001b[33mWARNING: You are using pip version 20.1; however, version 20.3.3 is available.\n",
      "You should consider upgrading via the '/usr/bin/python3 -m pip install --upgrade pip' command.\u001b[0m\n"
     ]
    }
   ],
   "source": [
    "!pip3 install xgboost"
   ]
  },
  {
   "cell_type": "code",
   "execution_count": null,
   "metadata": {},
   "outputs": [],
   "source": []
  },
  {
   "cell_type": "code",
   "execution_count": null,
   "metadata": {},
   "outputs": [],
   "source": []
  },
  {
   "cell_type": "code",
   "execution_count": null,
   "metadata": {},
   "outputs": [],
   "source": []
  },
  {
   "cell_type": "code",
   "execution_count": null,
   "metadata": {},
   "outputs": [],
   "source": []
  },
  {
   "cell_type": "code",
   "execution_count": null,
   "metadata": {},
   "outputs": [],
   "source": []
  },
  {
   "cell_type": "code",
   "execution_count": null,
   "metadata": {},
   "outputs": [],
   "source": [
    "! conda install -c conda-forge catboost"
   ]
  },
  {
   "cell_type": "code",
   "execution_count": null,
   "metadata": {},
   "outputs": [],
   "source": [
    "! conda install -c conda-forge lightgbm"
   ]
  },
  {
   "cell_type": "markdown",
   "metadata": {},
   "source": [
    "Your task in this optional section of the mini project is to read the documentation of these three libraries, and apply all of them to the \"German Credit\" dataset, just like you did in the case of Decision Trees and Random Forests."
   ]
  },
  {
   "cell_type": "markdown",
   "metadata": {},
   "source": [
    "The final deliverable of this section should be a table (can be a pandas DataFrame) which shows the accuracy of all the five algorthms taught in this mini project in one place."
   ]
  },
  {
   "cell_type": "markdown",
   "metadata": {},
   "source": [
    "Happy modeling! :)"
   ]
  },
  {
   "cell_type": "code",
   "execution_count": null,
   "metadata": {},
   "outputs": [],
   "source": []
  },
  {
   "cell_type": "code",
   "execution_count": null,
   "metadata": {},
   "outputs": [],
   "source": []
  },
  {
   "cell_type": "code",
   "execution_count": null,
   "metadata": {},
   "outputs": [],
   "source": []
  },
  {
   "cell_type": "raw",
   "metadata": {},
   "source": [
    "Doubts:\n",
    "1. Warning: impurity-based feature importances can be misleading for high cardinality features (many unique values). See sklearn.inspection.permutation_importance as an alternative.\n",
    "2. In the feature importance part, the order of the features are as per the order of X_train, isn't it?\n",
    "3. Accuracy has not improved significantly in Random Forests. But I think it might greatly improve when the DATASET is balanced. Currently the dataset is highly IMBALANCED.\n",
    "4. Interpreting the feature importance graph\n",
    "5. dtreeviz is not working. \n",
    "6. What actually happens in Permutation Importance method?\n",
    "7. "
   ]
  }
 ],
 "metadata": {
  "kernelspec": {
   "display_name": "Python 3",
   "language": "python",
   "name": "python3"
  },
  "language_info": {
   "codemirror_mode": {
    "name": "ipython",
    "version": 3
   },
   "file_extension": ".py",
   "mimetype": "text/x-python",
   "name": "python",
   "nbconvert_exporter": "python",
   "pygments_lexer": "ipython3",
   "version": "3.7.6"
  }
 },
 "nbformat": 4,
 "nbformat_minor": 4
}
